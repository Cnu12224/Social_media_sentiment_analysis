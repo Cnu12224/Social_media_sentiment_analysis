{
 "cells": [
  {
   "cell_type": "markdown",
   "id": "56f8a047",
   "metadata": {},
   "source": [
    "# Section-B database creation"
   ]
  },
  {
   "cell_type": "markdown",
   "id": "5b236ad6",
   "metadata": {},
   "source": [
    "# Which time of day (morning, noon, night) has the highest number of positive tweets? "
   ]
  },
  {
   "cell_type": "code",
   "execution_count": 4,
   "id": "ddc6cca6",
   "metadata": {},
   "outputs": [
    {
     "name": "stdout",
     "output_type": "stream",
     "text": [
      "The time of day with the highest number of positive tweets is 'night' with 374 tweets.\n"
     ]
    }
   ],
   "source": [
    "import pandas as pd\n",
    "\n",
    "# Assuming the dataset is loaded as a DataFrame 'df'\n",
    "df = pd.read_excel('Data Processing for AI - Data set.xlsm', sheet_name='test')\n",
    "\n",
    "# Filter for positive tweets\n",
    "positive_tweets = df[df['sentiment'] == 'positive']\n",
    "\n",
    "# Count positive tweets by time of day\n",
    "time_counts = positive_tweets['Time of Tweet'].value_counts()\n",
    "\n",
    "# Find the time with the highest count\n",
    "max_time = time_counts.idxmax()\n",
    "max_count = time_counts.max()\n",
    "\n",
    "print(f\"The time of day with the highest number of positive tweets is '{max_time}' with {max_count} tweets.\")"
   ]
  },
  {
   "cell_type": "markdown",
   "id": "b777b1aa",
   "metadata": {},
   "source": [
    "# Which country has the highest number of negative tweets?"
   ]
  },
  {
   "cell_type": "code",
   "execution_count": 5,
   "id": "e3ad240c",
   "metadata": {},
   "outputs": [
    {
     "name": "stdout",
     "output_type": "stream",
     "text": [
      "The country with the highest number of negative tweets is 'Bhutan' with 13 tweets.\n"
     ]
    }
   ],
   "source": [
    "import pandas as pd\n",
    "\n",
    "# Load dataset\n",
    "df = pd.read_excel('Data Processing for AI - Data set.xlsm', sheet_name='test')\n",
    "\n",
    "# Filter for negative tweets\n",
    "negative_tweets = df[df['sentiment'] == 'negative']\n",
    "\n",
    "# Count negative tweets by country\n",
    "country_counts = negative_tweets['Country'].value_counts()\n",
    "\n",
    "# Find the country with the highest count\n",
    "max_country = country_counts.idxmax()\n",
    "max_count = country_counts.max()\n",
    "\n",
    "print(f\"The country with the highest number of negative tweets is '{max_country}' with {max_count} tweets.\")"
   ]
  },
  {
   "cell_type": "markdown",
   "id": "bcd3b592",
   "metadata": {},
   "source": [
    "# Do older users (60+ years age) tend to post more neutral tweets than younger users? "
   ]
  },
  {
   "cell_type": "code",
   "execution_count": 6,
   "id": "b0599c69",
   "metadata": {},
   "outputs": [
    {
     "name": "stdout",
     "output_type": "stream",
     "text": [
      "Proportion of neutral tweets for 60+ users: 0.412\n",
      "Proportion of neutral tweets for younger users: 0.401\n",
      "Older users tend to post more neutral tweets.\n"
     ]
    }
   ],
   "source": [
    "import pandas as pd\n",
    "\n",
    "# Load dataset\n",
    "df = pd.read_excel('Data Processing for AI - Data set.xlsm', sheet_name='test')\n",
    "\n",
    "# Define age groups\n",
    "df['Age Group'] = df['Age of User'].apply(lambda x: '60+' if x in ['60-70', '70-100'] else 'Younger')\n",
    "\n",
    "# Calculate proportion of neutral tweets by age group\n",
    "neutral_proportions = df[df['sentiment'] == 'neutral'].groupby('Age Group').size() / df.groupby('Age Group').size()\n",
    "\n",
    "# Extract proportions\n",
    "older_neutral = neutral_proportions.get('60+', 0)\n",
    "younger_neutral = neutral_proportions.get('Younger', 0)\n",
    "\n",
    "print(f\"Proportion of neutral tweets for 60+ users: {older_neutral:.3f}\")\n",
    "print(f\"Proportion of neutral tweets for younger users: {younger_neutral:.3f}\")\n",
    "print(\"Older users\" if older_neutral > younger_neutral else \"Younger users\", \"tend to post more neutral tweets.\")"
   ]
  },
  {
   "cell_type": "markdown",
   "id": "20fbc1e1",
   "metadata": {},
   "source": [
    "# Is there a correlation between population density and tweet sentiment? "
   ]
  },
  {
   "cell_type": "code",
   "execution_count": 7,
   "id": "3e2b2f4d",
   "metadata": {},
   "outputs": [
    {
     "name": "stdout",
     "output_type": "stream",
     "text": [
      "Correlation between population density and tweet sentiment: 0.003\n"
     ]
    }
   ],
   "source": [
    "import pandas as pd\n",
    "\n",
    "# Load dataset\n",
    "df = pd.read_excel('Data Processing for AI - Data set.xlsm', sheet_name='test')\n",
    "\n",
    "# Encode sentiment\n",
    "sentiment_map = {'negative': -1, 'neutral': 0, 'positive': 1}\n",
    "df['sentiment_encoded'] = df['sentiment'].map(sentiment_map)\n",
    "\n",
    "# Compute correlation\n",
    "correlation = df['sentiment_encoded'].corr(df['Density (P/Km²)'])\n",
    "\n",
    "print(f\"Correlation between population density and tweet sentiment: {correlation:.3f}\")"
   ]
  },
  {
   "cell_type": "markdown",
   "id": "58069a9b",
   "metadata": {},
   "source": [
    "# Text Cleaning Steps: Conduct essential text cleaning on the tweet text before analysis. Explain why these steps are important"
   ]
  },
  {
   "cell_type": "markdown",
   "id": "5d34dd9a",
   "metadata": {},
   "source": [
    "# Text Cleaning Steps: Conduct essential text cleaning on the tweet text before analysis. Explain why these steps are important"
   ]
  },
  {
   "cell_type": "code",
   "execution_count": 8,
   "id": "8d9f1b3a",
   "metadata": {},
   "outputs": [
    {
     "name": "stderr",
     "output_type": "stream",
     "text": [
      "[nltk_data] Downloading package punkt to C:\\Users\\seenu/nltk_data...\n",
      "[nltk_data]   Package punkt is already up-to-date!\n",
      "[nltk_data] Downloading package stopwords to\n",
      "[nltk_data]     C:\\Users\\seenu/nltk_data...\n",
      "[nltk_data]   Package stopwords is already up-to-date!\n",
      "[nltk_data] Downloading package wordnet to C:\\Users\\seenu/nltk_data...\n",
      "[nltk_data]   Package wordnet is already up-to-date!\n"
     ]
    },
    {
     "data": {
      "text/plain": [
       "True"
      ]
     },
     "execution_count": 8,
     "metadata": {},
     "output_type": "execute_result"
    }
   ],
   "source": [
    "import pandas as pd\n",
    "import nltk\n",
    "from nltk.corpus import stopwords\n",
    "from nltk.stem import WordNetLemmatizer\n",
    "from nltk.tokenize import word_tokenize\n",
    "import re\n",
    "\n",
    "# Download required NLTK resources\n",
    "nltk.download('punkt')\n",
    "nltk.download('stopwords')\n",
    "nltk.download('wordnet')"
   ]
  },
  {
   "cell_type": "code",
   "execution_count": 13,
   "id": "081a619a",
   "metadata": {},
   "outputs": [],
   "source": [
    "# Load dataset\n",
    "df = pd.read_excel('Data Processing for AI - Data set.xlsm', sheet_name='test')"
   ]
  },
  {
   "cell_type": "code",
   "execution_count": 12,
   "id": "2be0c67b",
   "metadata": {},
   "outputs": [
    {
     "data": {
      "text/html": [
       "<div>\n",
       "<style scoped>\n",
       "    .dataframe tbody tr th:only-of-type {\n",
       "        vertical-align: middle;\n",
       "    }\n",
       "\n",
       "    .dataframe tbody tr th {\n",
       "        vertical-align: top;\n",
       "    }\n",
       "\n",
       "    .dataframe thead th {\n",
       "        text-align: right;\n",
       "    }\n",
       "</style>\n",
       "<table border=\"1\" class=\"dataframe\">\n",
       "  <thead>\n",
       "    <tr style=\"text-align: right;\">\n",
       "      <th></th>\n",
       "      <th>textID</th>\n",
       "      <th>text</th>\n",
       "      <th>sentiment</th>\n",
       "      <th>Time of Tweet</th>\n",
       "      <th>Age of User</th>\n",
       "      <th>Country</th>\n",
       "      <th>Population -2020</th>\n",
       "      <th>Land Area (Km²)</th>\n",
       "      <th>Density (P/Km²)</th>\n",
       "    </tr>\n",
       "  </thead>\n",
       "  <tbody>\n",
       "    <tr>\n",
       "      <th>0</th>\n",
       "      <td>f87dea47db</td>\n",
       "      <td>Last session of the day  http://twitpic.com/67ezh</td>\n",
       "      <td>neutral</td>\n",
       "      <td>morning</td>\n",
       "      <td>0-20</td>\n",
       "      <td>Afghanistan</td>\n",
       "      <td>38928346</td>\n",
       "      <td>652860</td>\n",
       "      <td>60</td>\n",
       "    </tr>\n",
       "    <tr>\n",
       "      <th>1</th>\n",
       "      <td>96d74cb729</td>\n",
       "      <td>Shanghai is also really exciting (precisely -...</td>\n",
       "      <td>positive</td>\n",
       "      <td>noon</td>\n",
       "      <td>21-30</td>\n",
       "      <td>Albania</td>\n",
       "      <td>2877797</td>\n",
       "      <td>27400</td>\n",
       "      <td>105</td>\n",
       "    </tr>\n",
       "    <tr>\n",
       "      <th>2</th>\n",
       "      <td>eee518ae67</td>\n",
       "      <td>Recession hit Veronique Branquinho, she has to...</td>\n",
       "      <td>negative</td>\n",
       "      <td>night</td>\n",
       "      <td>31-45</td>\n",
       "      <td>Algeria</td>\n",
       "      <td>43851044</td>\n",
       "      <td>2381740</td>\n",
       "      <td>18</td>\n",
       "    </tr>\n",
       "    <tr>\n",
       "      <th>3</th>\n",
       "      <td>01082688c6</td>\n",
       "      <td>happy bday!</td>\n",
       "      <td>positive</td>\n",
       "      <td>morning</td>\n",
       "      <td>46-60</td>\n",
       "      <td>Andorra</td>\n",
       "      <td>77265</td>\n",
       "      <td>470</td>\n",
       "      <td>164</td>\n",
       "    </tr>\n",
       "    <tr>\n",
       "      <th>4</th>\n",
       "      <td>33987a8ee5</td>\n",
       "      <td>http://twitpic.com/4w75p - I like it!!</td>\n",
       "      <td>positive</td>\n",
       "      <td>noon</td>\n",
       "      <td>60-70</td>\n",
       "      <td>Angola</td>\n",
       "      <td>32866272</td>\n",
       "      <td>1246700</td>\n",
       "      <td>26</td>\n",
       "    </tr>\n",
       "  </tbody>\n",
       "</table>\n",
       "</div>"
      ],
      "text/plain": [
       "       textID                                               text sentiment  \\\n",
       "0  f87dea47db  Last session of the day  http://twitpic.com/67ezh   neutral   \n",
       "1  96d74cb729   Shanghai is also really exciting (precisely -...  positive   \n",
       "2  eee518ae67  Recession hit Veronique Branquinho, she has to...  negative   \n",
       "3  01082688c6                                        happy bday!  positive   \n",
       "4  33987a8ee5             http://twitpic.com/4w75p - I like it!!  positive   \n",
       "\n",
       "  Time of Tweet Age of User      Country  Population -2020  Land Area (Km²)  \\\n",
       "0       morning        0-20  Afghanistan          38928346           652860   \n",
       "1          noon       21-30      Albania           2877797            27400   \n",
       "2         night       31-45      Algeria          43851044          2381740   \n",
       "3       morning       46-60      Andorra             77265              470   \n",
       "4          noon       60-70       Angola          32866272          1246700   \n",
       "\n",
       "   Density (P/Km²)  \n",
       "0               60  \n",
       "1              105  \n",
       "2               18  \n",
       "3              164  \n",
       "4               26  "
      ]
     },
     "execution_count": 12,
     "metadata": {},
     "output_type": "execute_result"
    }
   ],
   "source": [
    "df.head()"
   ]
  },
  {
   "cell_type": "code",
   "execution_count": 14,
   "id": "5a2c5cfb",
   "metadata": {},
   "outputs": [
    {
     "data": {
      "text/plain": [
       "(3534, 9)"
      ]
     },
     "execution_count": 14,
     "metadata": {},
     "output_type": "execute_result"
    }
   ],
   "source": [
    "df.shape"
   ]
  },
  {
   "cell_type": "code",
   "execution_count": 15,
   "id": "4d4d0fbd",
   "metadata": {},
   "outputs": [
    {
     "data": {
      "text/html": [
       "<div>\n",
       "<style scoped>\n",
       "    .dataframe tbody tr th:only-of-type {\n",
       "        vertical-align: middle;\n",
       "    }\n",
       "\n",
       "    .dataframe tbody tr th {\n",
       "        vertical-align: top;\n",
       "    }\n",
       "\n",
       "    .dataframe thead th {\n",
       "        text-align: right;\n",
       "    }\n",
       "</style>\n",
       "<table border=\"1\" class=\"dataframe\">\n",
       "  <thead>\n",
       "    <tr style=\"text-align: right;\">\n",
       "      <th></th>\n",
       "      <th>textID</th>\n",
       "      <th>text</th>\n",
       "      <th>sentiment</th>\n",
       "      <th>Time of Tweet</th>\n",
       "      <th>Age of User</th>\n",
       "      <th>Country</th>\n",
       "      <th>Population -2020</th>\n",
       "      <th>Land Area (Km²)</th>\n",
       "      <th>Density (P/Km²)</th>\n",
       "    </tr>\n",
       "  </thead>\n",
       "  <tbody>\n",
       "    <tr>\n",
       "      <th>count</th>\n",
       "      <td>3534</td>\n",
       "      <td>3534</td>\n",
       "      <td>3534</td>\n",
       "      <td>3534</td>\n",
       "      <td>3534</td>\n",
       "      <td>3534</td>\n",
       "      <td>3.534000e+03</td>\n",
       "      <td>3.534000e+03</td>\n",
       "      <td>3534.000000</td>\n",
       "    </tr>\n",
       "    <tr>\n",
       "      <th>unique</th>\n",
       "      <td>3534</td>\n",
       "      <td>3534</td>\n",
       "      <td>3</td>\n",
       "      <td>3</td>\n",
       "      <td>6</td>\n",
       "      <td>195</td>\n",
       "      <td>NaN</td>\n",
       "      <td>NaN</td>\n",
       "      <td>NaN</td>\n",
       "    </tr>\n",
       "    <tr>\n",
       "      <th>top</th>\n",
       "      <td>f87dea47db</td>\n",
       "      <td>Last session of the day  http://twitpic.com/67ezh</td>\n",
       "      <td>neutral</td>\n",
       "      <td>morning</td>\n",
       "      <td>0-20</td>\n",
       "      <td>Afghanistan</td>\n",
       "      <td>NaN</td>\n",
       "      <td>NaN</td>\n",
       "      <td>NaN</td>\n",
       "    </tr>\n",
       "    <tr>\n",
       "      <th>freq</th>\n",
       "      <td>1</td>\n",
       "      <td>1</td>\n",
       "      <td>1430</td>\n",
       "      <td>1178</td>\n",
       "      <td>590</td>\n",
       "      <td>20</td>\n",
       "      <td>NaN</td>\n",
       "      <td>NaN</td>\n",
       "      <td>NaN</td>\n",
       "    </tr>\n",
       "    <tr>\n",
       "      <th>mean</th>\n",
       "      <td>NaN</td>\n",
       "      <td>NaN</td>\n",
       "      <td>NaN</td>\n",
       "      <td>NaN</td>\n",
       "      <td>NaN</td>\n",
       "      <td>NaN</td>\n",
       "      <td>3.941891e+07</td>\n",
       "      <td>6.722499e+05</td>\n",
       "      <td>348.894171</td>\n",
       "    </tr>\n",
       "    <tr>\n",
       "      <th>std</th>\n",
       "      <td>NaN</td>\n",
       "      <td>NaN</td>\n",
       "      <td>NaN</td>\n",
       "      <td>NaN</td>\n",
       "      <td>NaN</td>\n",
       "      <td>NaN</td>\n",
       "      <td>1.468757e+08</td>\n",
       "      <td>1.839134e+06</td>\n",
       "      <td>1967.012367</td>\n",
       "    </tr>\n",
       "    <tr>\n",
       "      <th>min</th>\n",
       "      <td>NaN</td>\n",
       "      <td>NaN</td>\n",
       "      <td>NaN</td>\n",
       "      <td>NaN</td>\n",
       "      <td>NaN</td>\n",
       "      <td>NaN</td>\n",
       "      <td>8.010000e+02</td>\n",
       "      <td>0.000000e+00</td>\n",
       "      <td>2.000000</td>\n",
       "    </tr>\n",
       "    <tr>\n",
       "      <th>25%</th>\n",
       "      <td>NaN</td>\n",
       "      <td>NaN</td>\n",
       "      <td>NaN</td>\n",
       "      <td>NaN</td>\n",
       "      <td>NaN</td>\n",
       "      <td>NaN</td>\n",
       "      <td>1.968001e+06</td>\n",
       "      <td>2.281000e+04</td>\n",
       "      <td>35.000000</td>\n",
       "    </tr>\n",
       "    <tr>\n",
       "      <th>50%</th>\n",
       "      <td>NaN</td>\n",
       "      <td>NaN</td>\n",
       "      <td>NaN</td>\n",
       "      <td>NaN</td>\n",
       "      <td>NaN</td>\n",
       "      <td>NaN</td>\n",
       "      <td>8.696453e+06</td>\n",
       "      <td>1.127600e+05</td>\n",
       "      <td>87.000000</td>\n",
       "    </tr>\n",
       "    <tr>\n",
       "      <th>75%</th>\n",
       "      <td>NaN</td>\n",
       "      <td>NaN</td>\n",
       "      <td>NaN</td>\n",
       "      <td>NaN</td>\n",
       "      <td>NaN</td>\n",
       "      <td>NaN</td>\n",
       "      <td>2.843594e+07</td>\n",
       "      <td>5.279700e+05</td>\n",
       "      <td>214.000000</td>\n",
       "    </tr>\n",
       "    <tr>\n",
       "      <th>max</th>\n",
       "      <td>NaN</td>\n",
       "      <td>NaN</td>\n",
       "      <td>NaN</td>\n",
       "      <td>NaN</td>\n",
       "      <td>NaN</td>\n",
       "      <td>NaN</td>\n",
       "      <td>1.439324e+09</td>\n",
       "      <td>1.637687e+07</td>\n",
       "      <td>26337.000000</td>\n",
       "    </tr>\n",
       "  </tbody>\n",
       "</table>\n",
       "</div>"
      ],
      "text/plain": [
       "            textID                                               text  \\\n",
       "count         3534                                               3534   \n",
       "unique        3534                                               3534   \n",
       "top     f87dea47db  Last session of the day  http://twitpic.com/67ezh   \n",
       "freq             1                                                  1   \n",
       "mean           NaN                                                NaN   \n",
       "std            NaN                                                NaN   \n",
       "min            NaN                                                NaN   \n",
       "25%            NaN                                                NaN   \n",
       "50%            NaN                                                NaN   \n",
       "75%            NaN                                                NaN   \n",
       "max            NaN                                                NaN   \n",
       "\n",
       "       sentiment Time of Tweet Age of User      Country  Population -2020  \\\n",
       "count       3534          3534        3534         3534      3.534000e+03   \n",
       "unique         3             3           6          195               NaN   \n",
       "top      neutral       morning        0-20  Afghanistan               NaN   \n",
       "freq        1430          1178         590           20               NaN   \n",
       "mean         NaN           NaN         NaN          NaN      3.941891e+07   \n",
       "std          NaN           NaN         NaN          NaN      1.468757e+08   \n",
       "min          NaN           NaN         NaN          NaN      8.010000e+02   \n",
       "25%          NaN           NaN         NaN          NaN      1.968001e+06   \n",
       "50%          NaN           NaN         NaN          NaN      8.696453e+06   \n",
       "75%          NaN           NaN         NaN          NaN      2.843594e+07   \n",
       "max          NaN           NaN         NaN          NaN      1.439324e+09   \n",
       "\n",
       "        Land Area (Km²)  Density (P/Km²)  \n",
       "count      3.534000e+03      3534.000000  \n",
       "unique              NaN              NaN  \n",
       "top                 NaN              NaN  \n",
       "freq                NaN              NaN  \n",
       "mean       6.722499e+05       348.894171  \n",
       "std        1.839134e+06      1967.012367  \n",
       "min        0.000000e+00         2.000000  \n",
       "25%        2.281000e+04        35.000000  \n",
       "50%        1.127600e+05        87.000000  \n",
       "75%        5.279700e+05       214.000000  \n",
       "max        1.637687e+07     26337.000000  "
      ]
     },
     "execution_count": 15,
     "metadata": {},
     "output_type": "execute_result"
    }
   ],
   "source": [
    "df.describe(include =\"all\")"
   ]
  },
  {
   "cell_type": "code",
   "execution_count": 16,
   "id": "6b154123",
   "metadata": {},
   "outputs": [],
   "source": [
    "# Define text cleaning function\n",
    "def clean_text(text):\n",
    "    # Step 1: Convert to lowercase\n",
    "    text = text.lower()\n",
    "    \n",
    "    # Step 2: Remove URLs\n",
    "    text = re.sub(r'http\\S+|www\\S+|https\\S+', '', text, flags=re.MULTILINE)\n",
    "    \n",
    "    # Step 3: Remove punctuation and special characters\n",
    "    text = re.sub(r'[^\\w\\s]', '', text)\n",
    "    \n",
    "    # Step 4: Remove numbers\n",
    "    text = re.sub(r'\\d+', '', text)\n",
    "    \n",
    "    # Step 5: Tokenize\n",
    "    tokens = word_tokenize(text)\n",
    "    \n",
    "    # Step 6: Remove stopwords\n",
    "    stop_words = set(stopwords.words('english'))\n",
    "    tokens = [word for word in tokens if word not in stop_words]\n",
    "    \n",
    "    # Step 7: Lemmatize\n",
    "    lemmatizer = WordNetLemmatizer()\n",
    "    tokens = [lemmatizer.lemmatize(word) for word in tokens]\n",
    "    \n",
    "    # Join tokens back into a single string\n",
    "    return ' '.join(tokens)\n"
   ]
  },
  {
   "cell_type": "code",
   "execution_count": 17,
   "id": "5aac49ad",
   "metadata": {},
   "outputs": [],
   "source": [
    "# Apply cleaning to the 'text' column\n",
    "df['cleaned_text'] = df['text'].apply(clean_text)"
   ]
  },
  {
   "cell_type": "code",
   "execution_count": 18,
   "id": "1eb74a28",
   "metadata": {},
   "outputs": [
    {
     "name": "stdout",
     "output_type": "stream",
     "text": [
      "                                                text  \\\n",
      "0  Last session of the day  http://twitpic.com/67ezh   \n",
      "1   Shanghai is also really exciting (precisely -...   \n",
      "2  Recession hit Veronique Branquinho, she has to...   \n",
      "3                                        happy bday!   \n",
      "4             http://twitpic.com/4w75p - I like it!!   \n",
      "\n",
      "                                        cleaned_text  \n",
      "0                                   last session day  \n",
      "1  shanghai also really exciting precisely skyscr...  \n",
      "2  recession hit veronique branquinho quit compan...  \n",
      "3                                         happy bday  \n",
      "4                                               like  \n"
     ]
    }
   ],
   "source": [
    "\n",
    "# Display the first few rows to verify\n",
    "print(df[['text', 'cleaned_text']].head())\n",
    "\n",
    "# Save the cleaned dataset (optional)\n",
    "df.to_excel('cleaned_data.xlsm', index=False)"
   ]
  },
  {
   "cell_type": "code",
   "execution_count": 19,
   "id": "2ba0d876",
   "metadata": {},
   "outputs": [
    {
     "name": "stderr",
     "output_type": "stream",
     "text": [
      "[nltk_data] Downloading package omw-1.4 to C:\\Users\\seenu/nltk_data...\n",
      "[nltk_data]   Package omw-1.4 is already up-to-date!\n"
     ]
    },
    {
     "data": {
      "text/plain": [
       "True"
      ]
     },
     "execution_count": 19,
     "metadata": {},
     "output_type": "execute_result"
    }
   ],
   "source": [
    "nltk.download('omw-1.4')"
   ]
  },
  {
   "cell_type": "markdown",
   "id": "5ebb720b",
   "metadata": {},
   "source": [
    "# Data Preprocessing: Explain the additional data preprocessing and cleaning you have done for each variable and why? "
   ]
  },
  {
   "cell_type": "code",
   "execution_count": 20,
   "id": "a813cd25",
   "metadata": {},
   "outputs": [],
   "source": [
    "df = pd.read_excel('cleaned_data.xlsm')"
   ]
  },
  {
   "cell_type": "code",
   "execution_count": 21,
   "id": "c6a4c8a1",
   "metadata": {},
   "outputs": [
    {
     "data": {
      "text/html": [
       "<div>\n",
       "<style scoped>\n",
       "    .dataframe tbody tr th:only-of-type {\n",
       "        vertical-align: middle;\n",
       "    }\n",
       "\n",
       "    .dataframe tbody tr th {\n",
       "        vertical-align: top;\n",
       "    }\n",
       "\n",
       "    .dataframe thead th {\n",
       "        text-align: right;\n",
       "    }\n",
       "</style>\n",
       "<table border=\"1\" class=\"dataframe\">\n",
       "  <thead>\n",
       "    <tr style=\"text-align: right;\">\n",
       "      <th></th>\n",
       "      <th>textID</th>\n",
       "      <th>text</th>\n",
       "      <th>sentiment</th>\n",
       "      <th>Time of Tweet</th>\n",
       "      <th>Age of User</th>\n",
       "      <th>Country</th>\n",
       "      <th>Population -2020</th>\n",
       "      <th>Land Area (Km²)</th>\n",
       "      <th>Density (P/Km²)</th>\n",
       "      <th>cleaned_text</th>\n",
       "    </tr>\n",
       "  </thead>\n",
       "  <tbody>\n",
       "    <tr>\n",
       "      <th>0</th>\n",
       "      <td>f87dea47db</td>\n",
       "      <td>Last session of the day  http://twitpic.com/67ezh</td>\n",
       "      <td>neutral</td>\n",
       "      <td>morning</td>\n",
       "      <td>0-20</td>\n",
       "      <td>Afghanistan</td>\n",
       "      <td>38928346</td>\n",
       "      <td>652860</td>\n",
       "      <td>60</td>\n",
       "      <td>last session day</td>\n",
       "    </tr>\n",
       "    <tr>\n",
       "      <th>1</th>\n",
       "      <td>96d74cb729</td>\n",
       "      <td>Shanghai is also really exciting (precisely -...</td>\n",
       "      <td>positive</td>\n",
       "      <td>noon</td>\n",
       "      <td>21-30</td>\n",
       "      <td>Albania</td>\n",
       "      <td>2877797</td>\n",
       "      <td>27400</td>\n",
       "      <td>105</td>\n",
       "      <td>shanghai also really exciting precisely skyscr...</td>\n",
       "    </tr>\n",
       "    <tr>\n",
       "      <th>2</th>\n",
       "      <td>eee518ae67</td>\n",
       "      <td>Recession hit Veronique Branquinho, she has to...</td>\n",
       "      <td>negative</td>\n",
       "      <td>night</td>\n",
       "      <td>31-45</td>\n",
       "      <td>Algeria</td>\n",
       "      <td>43851044</td>\n",
       "      <td>2381740</td>\n",
       "      <td>18</td>\n",
       "      <td>recession hit veronique branquinho quit compan...</td>\n",
       "    </tr>\n",
       "    <tr>\n",
       "      <th>3</th>\n",
       "      <td>01082688c6</td>\n",
       "      <td>happy bday!</td>\n",
       "      <td>positive</td>\n",
       "      <td>morning</td>\n",
       "      <td>46-60</td>\n",
       "      <td>Andorra</td>\n",
       "      <td>77265</td>\n",
       "      <td>470</td>\n",
       "      <td>164</td>\n",
       "      <td>happy bday</td>\n",
       "    </tr>\n",
       "    <tr>\n",
       "      <th>4</th>\n",
       "      <td>33987a8ee5</td>\n",
       "      <td>http://twitpic.com/4w75p - I like it!!</td>\n",
       "      <td>positive</td>\n",
       "      <td>noon</td>\n",
       "      <td>60-70</td>\n",
       "      <td>Angola</td>\n",
       "      <td>32866272</td>\n",
       "      <td>1246700</td>\n",
       "      <td>26</td>\n",
       "      <td>like</td>\n",
       "    </tr>\n",
       "  </tbody>\n",
       "</table>\n",
       "</div>"
      ],
      "text/plain": [
       "       textID                                               text sentiment  \\\n",
       "0  f87dea47db  Last session of the day  http://twitpic.com/67ezh   neutral   \n",
       "1  96d74cb729   Shanghai is also really exciting (precisely -...  positive   \n",
       "2  eee518ae67  Recession hit Veronique Branquinho, she has to...  negative   \n",
       "3  01082688c6                                        happy bday!  positive   \n",
       "4  33987a8ee5             http://twitpic.com/4w75p - I like it!!  positive   \n",
       "\n",
       "  Time of Tweet Age of User      Country  Population -2020  Land Area (Km²)  \\\n",
       "0       morning        0-20  Afghanistan          38928346           652860   \n",
       "1          noon       21-30      Albania           2877797            27400   \n",
       "2         night       31-45      Algeria          43851044          2381740   \n",
       "3       morning       46-60      Andorra             77265              470   \n",
       "4          noon       60-70       Angola          32866272          1246700   \n",
       "\n",
       "   Density (P/Km²)                                       cleaned_text  \n",
       "0               60                                   last session day  \n",
       "1              105  shanghai also really exciting precisely skyscr...  \n",
       "2               18  recession hit veronique branquinho quit compan...  \n",
       "3              164                                         happy bday  \n",
       "4               26                                               like  "
      ]
     },
     "execution_count": 21,
     "metadata": {},
     "output_type": "execute_result"
    }
   ],
   "source": [
    "df.head()"
   ]
  },
  {
   "cell_type": "code",
   "execution_count": 22,
   "id": "afd38ffc",
   "metadata": {},
   "outputs": [],
   "source": [
    "# sentiment: Verify values and ensure categorical\n",
    "valid_sentiments = ['positive', 'negative', 'neutral']\n",
    "df = df[df['sentiment'].isin(valid_sentiments)]"
   ]
  },
  {
   "cell_type": "code",
   "execution_count": 23,
   "id": "352f54fc",
   "metadata": {},
   "outputs": [],
   "source": [
    "# Time of Tweet: Verify categorical values\n",
    "valid_times = ['morning', 'noon', 'night']\n",
    "df = df[df['Time of Tweet'].isin(valid_times)]"
   ]
  },
  {
   "cell_type": "code",
   "execution_count": 24,
   "id": "933d42ba",
   "metadata": {},
   "outputs": [],
   "source": [
    "# Age of User: Group into '60+' and 'Younger' for analysis, verify categories\n",
    "valid_ages = ['0-20', '21-30', '31-45', '46-60', '60-70', '70-100']\n",
    "df = df[df['Age of User'].isin(valid_ages)]\n",
    "df['Age Group'] = df['Age of User'].apply(lambda x: '60+' if x in ['60-70', '70-100'] else 'Younger')"
   ]
  },
  {
   "cell_type": "code",
   "execution_count": 25,
   "id": "3aacf012",
   "metadata": {},
   "outputs": [],
   "source": [
    "# Country: Check for consistency (no normalization needed as names are consistent)\n",
    "# No specific cleaning, but ensure no missing values\n",
    "df = df[df['Country'].notna()]"
   ]
  },
  {
   "cell_type": "code",
   "execution_count": 26,
   "id": "1f5c917e",
   "metadata": {},
   "outputs": [],
   "source": [
    "# Population -2020: Convert to numeric, check for invalid values\n",
    "df['Population -2020'] = pd.to_numeric(df['Population -2020'], errors='coerce')\n",
    "df = df[df['Population -2020'].notna()]"
   ]
  },
  {
   "cell_type": "code",
   "execution_count": 27,
   "id": "6f714b94",
   "metadata": {},
   "outputs": [],
   "source": [
    "# Land Area (Km²): Convert to numeric, handle scientific notation\n",
    "df['Land Area (Km²)'] = pd.to_numeric(df['Land Area (Km²)'], errors='coerce')\n",
    "df = df[df['Land Area (Km²)'].notna()]"
   ]
  },
  {
   "cell_type": "code",
   "execution_count": 28,
   "id": "29392172",
   "metadata": {},
   "outputs": [],
   "source": [
    "# Density (P/Km²): Verify as numeric, check consistency\n",
    "df['Density (P/Km²)'] = pd.to_numeric(df['Density (P/Km²)'], errors='coerce')\n",
    "df = df[df['Density (P/Km²)'].notna()]"
   ]
  },
  {
   "cell_type": "code",
   "execution_count": 29,
   "id": "0c1d068c",
   "metadata": {},
   "outputs": [],
   "source": [
    "# Remove duplicates\n",
    "df = df.drop_duplicates()"
   ]
  },
  {
   "cell_type": "code",
   "execution_count": 30,
   "id": "54b5161c",
   "metadata": {},
   "outputs": [
    {
     "name": "stdout",
     "output_type": "stream",
     "text": [
      "Missing values after cleaning:\n",
      " textID               0\n",
      "text                 0\n",
      "sentiment            0\n",
      "Time of Tweet        0\n",
      "Age of User          0\n",
      "Country              0\n",
      "Population -2020     0\n",
      "Land Area (Km²)      0\n",
      "Density (P/Km²)      0\n",
      "cleaned_text        12\n",
      "Age Group            0\n",
      "dtype: int64\n"
     ]
    }
   ],
   "source": [
    "# Check for missing values (already handled above, but confirm)\n",
    "missing_values = df.isna().sum()\n",
    "print(\"Missing values after cleaning:\\n\", missing_values)"
   ]
  },
  {
   "cell_type": "code",
   "execution_count": 31,
   "id": "075eac10",
   "metadata": {},
   "outputs": [],
   "source": [
    "# 4. Optional: Encode sentiment for modeling (e.g., negative=0, neutral=1, positive=2)\n",
    "sentiment_map = {'negative': 0, 'neutral': 1, 'positive': 2}\n",
    "df['sentiment_encoded'] = df['sentiment'].map(sentiment_map)"
   ]
  },
  {
   "cell_type": "code",
   "execution_count": 32,
   "id": "55fe1a14",
   "metadata": {},
   "outputs": [
    {
     "name": "stdout",
     "output_type": "stream",
     "text": [
      "\n",
      "First few rows of preprocessed dataset:\n",
      "        textID                                               text sentiment  \\\n",
      "0  f87dea47db  Last session of the day  http://twitpic.com/67ezh   neutral   \n",
      "1  96d74cb729   Shanghai is also really exciting (precisely -...  positive   \n",
      "2  eee518ae67  Recession hit Veronique Branquinho, she has to...  negative   \n",
      "3  01082688c6                                        happy bday!  positive   \n",
      "4  33987a8ee5             http://twitpic.com/4w75p - I like it!!  positive   \n",
      "\n",
      "  Time of Tweet Age of User      Country  Population -2020  Land Area (Km²)  \\\n",
      "0       morning        0-20  Afghanistan          38928346           652860   \n",
      "1          noon       21-30      Albania           2877797            27400   \n",
      "2         night       31-45      Algeria          43851044          2381740   \n",
      "3       morning       46-60      Andorra             77265              470   \n",
      "4          noon       60-70       Angola          32866272          1246700   \n",
      "\n",
      "   Density (P/Km²)                                       cleaned_text  \\\n",
      "0               60                                   last session day   \n",
      "1              105  shanghai also really exciting precisely skyscr...   \n",
      "2               18  recession hit veronique branquinho quit compan...   \n",
      "3              164                                         happy bday   \n",
      "4               26                                               like   \n",
      "\n",
      "  Age Group  sentiment_encoded  \n",
      "0   Younger                  1  \n",
      "1   Younger                  2  \n",
      "2   Younger                  0  \n",
      "3   Younger                  2  \n",
      "4       60+                  2  \n"
     ]
    }
   ],
   "source": [
    "# Display the first few rows to verify\n",
    "print(\"\\nFirst few rows of preprocessed dataset:\\n\", df.head())"
   ]
  },
  {
   "cell_type": "code",
   "execution_count": 33,
   "id": "346e3e5d",
   "metadata": {},
   "outputs": [],
   "source": [
    "# Save the cleaned dataset\n",
    "df.to_excel('preprocessed_data.xlsm', index=False)"
   ]
  },
  {
   "cell_type": "markdown",
   "id": "288893b2",
   "metadata": {},
   "source": [
    "# Model Training: "
   ]
  },
  {
   "cell_type": "code",
   "execution_count": 34,
   "id": "a6291bff",
   "metadata": {},
   "outputs": [],
   "source": [
    "from sklearn.feature_extraction.text import TfidfVectorizer\n",
    "from sklearn.model_selection import train_test_split\n",
    "from sklearn.naive_bayes import MultinomialNB\n",
    "from sklearn.metrics import classification_report, accuracy_score\n",
    "from sklearn.feature_extraction.text import TfidfVectorizer"
   ]
  },
  {
   "cell_type": "code",
   "execution_count": 35,
   "id": "1d48e6b2",
   "metadata": {},
   "outputs": [],
   "source": [
    "# Load dataset\n",
    "df = pd.read_excel('preprocessed_data.xlsm')"
   ]
  },
  {
   "cell_type": "code",
   "execution_count": 36,
   "id": "57054b64",
   "metadata": {},
   "outputs": [],
   "source": [
    "# Ensure no NaN in cleaned_text\n",
    "df = df[df['cleaned_text'].notna()]"
   ]
  },
  {
   "cell_type": "code",
   "execution_count": 37,
   "id": "89e41acb",
   "metadata": {},
   "outputs": [],
   "source": [
    "# Vectorize text\n",
    "vectorizer = TfidfVectorizer(max_features=5000)\n",
    "X = vectorizer.fit_transform(df['cleaned_text'])\n",
    "y = df['sentiment']"
   ]
  },
  {
   "cell_type": "code",
   "execution_count": 38,
   "id": "d98f974a",
   "metadata": {},
   "outputs": [],
   "source": [
    "# Split data\n",
    "X_train, X_test, y_train, y_test = train_test_split(X, y, test_size=0.2, random_state=42)"
   ]
  },
  {
   "cell_type": "code",
   "execution_count": null,
   "id": "14c6150b",
   "metadata": {},
   "outputs": [],
   "source": []
  },
  {
   "cell_type": "code",
   "execution_count": 39,
   "id": "227b8d2b",
   "metadata": {},
   "outputs": [
    {
     "data": {
      "text/plain": [
       "MultinomialNB()"
      ]
     },
     "execution_count": 39,
     "metadata": {},
     "output_type": "execute_result"
    }
   ],
   "source": [
    "\n",
    "# Train Naive Bayes model\n",
    "nb_model = MultinomialNB()\n",
    "nb_model.fit(X_train, y_train)"
   ]
  },
  {
   "cell_type": "code",
   "execution_count": 40,
   "id": "cf30d0d4",
   "metadata": {},
   "outputs": [
    {
     "name": "stdout",
     "output_type": "stream",
     "text": [
      "Accuracy: 0.596\n",
      "\n",
      "Classification Report:\n",
      "              precision    recall  f1-score   support\n",
      "\n",
      "    negative       0.70      0.36      0.48       191\n",
      "     neutral       0.51      0.81      0.63       278\n",
      "    positive       0.75      0.54      0.63       236\n",
      "\n",
      "    accuracy                           0.60       705\n",
      "   macro avg       0.65      0.57      0.58       705\n",
      "weighted avg       0.64      0.60      0.59       705\n",
      "\n"
     ]
    }
   ],
   "source": [
    "# Predict and evaluate\n",
    "y_pred = nb_model.predict(X_test)\n",
    "accuracy = accuracy_score(y_test, y_pred)\n",
    "print(f\"Accuracy: {accuracy:.3f}\")\n",
    "print(\"\\nClassification Report:\")\n",
    "print(classification_report(y_test, y_pred))"
   ]
  },
  {
   "cell_type": "code",
   "execution_count": 41,
   "id": "ec5c9631",
   "metadata": {},
   "outputs": [],
   "source": [
    "from sklearn.metrics import confusion_matrix, classification_report, accuracy_score\n",
    "import seaborn as sns\n",
    "import matplotlib.pyplot as plt"
   ]
  },
  {
   "cell_type": "code",
   "execution_count": 42,
   "id": "e5a32ec5",
   "metadata": {},
   "outputs": [],
   "source": [
    "# Compute confusion matrix\n",
    "cm = confusion_matrix(y_test, y_pred, labels=['negative', 'neutral', 'positive'])"
   ]
  },
  {
   "cell_type": "code",
   "execution_count": 43,
   "id": "3552c8f4",
   "metadata": {},
   "outputs": [
    {
     "name": "stdout",
     "output_type": "stream",
     "text": [
      "Accuracy: 0.596\n",
      "\n",
      "Classification Report:\n",
      "              precision    recall  f1-score   support\n",
      "\n",
      "    negative       0.70      0.36      0.48       191\n",
      "     neutral       0.51      0.81      0.63       278\n",
      "    positive       0.75      0.54      0.63       236\n",
      "\n",
      "    accuracy                           0.60       705\n",
      "   macro avg       0.65      0.57      0.58       705\n",
      "weighted avg       0.64      0.60      0.59       705\n",
      "\n"
     ]
    }
   ],
   "source": [
    "# Print classification report\n",
    "print(f\"Accuracy: {accuracy_score(y_test, y_pred):.3f}\")\n",
    "print(\"\\nClassification Report:\")\n",
    "print(classification_report(y_test, y_pred))"
   ]
  },
  {
   "cell_type": "code",
   "execution_count": 44,
   "id": "0283bd24",
   "metadata": {},
   "outputs": [
    {
     "data": {
      "image/png": "[encoded data removed]",
      "text/plain": [
       "<Figure size 576x432 with 2 Axes>"
      ]
     },
     "metadata": {
      "needs_background": "light"
     },
     "output_type": "display_data"
    }
   ],
   "source": [
    "# Plot confusion matrix as a heatmap\n",
    "plt.figure(figsize=(8, 6))\n",
    "sns.heatmap(cm, annot=True, fmt='d', cmap='Blues', \n",
    "            xticklabels=['Negative', 'Neutral', 'Positive'], \n",
    "            yticklabels=['Negative', 'Neutral', 'Positive'])\n",
    "plt.title('Confusion Matrix Heatmap')\n",
    "plt.xlabel('Predicted')\n",
    "plt.ylabel('True')\n",
    "plt.show()"
   ]
  },
  {
   "cell_type": "code",
   "execution_count": 45,
   "id": "7f353205",
   "metadata": {},
   "outputs": [],
   "source": [
    "import pickle"
   ]
  },
  {
   "cell_type": "code",
   "execution_count": 46,
   "id": "952faae5",
   "metadata": {},
   "outputs": [],
   "source": [
    "file_name = \"model.pkl\"\n",
    "with open(file_name,'wb') as file:\n",
    "    pickle.dump(nb_model,file)"
   ]
  },
  {
   "cell_type": "code",
   "execution_count": null,
   "id": "efb0d7d8",
   "metadata": {},
   "outputs": [],
   "source": []
  }
 ],
 "metadata": {
  "kernelspec": {
   "display_name": "Python 3 (ipykernel)",
   "language": "python",
   "name": "python3"
  },
  "language_info": {
   "codemirror_mode": {
    "name": "ipython",
    "version": 3
   },
   "file_extension": ".py",
   "mimetype": "text/x-python",
   "name": "python",
   "nbconvert_exporter": "python",
   "pygments_lexer": "ipython3",
   "version": "3.9.12"
  }
 },
 "nbformat": 4,
 "nbformat_minor": 5
}
